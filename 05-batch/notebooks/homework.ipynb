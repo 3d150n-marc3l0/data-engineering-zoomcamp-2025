{
 "cells": [
  {
   "cell_type": "code",
   "execution_count": 1,
   "id": "00bc6543",
   "metadata": {},
   "outputs": [],
   "source": [
    "import pyspark\n",
    "from pyspark.sql import SparkSession\n",
    "from pyspark.sql import types"
   ]
  },
  {
   "cell_type": "code",
   "execution_count": 30,
   "id": "62b07c27",
   "metadata": {},
   "outputs": [],
   "source": [
    "from pyspark.sql import functions as F"
   ]
  },
  {
   "cell_type": "code",
   "execution_count": 2,
   "id": "cd4a0f3d",
   "metadata": {},
   "outputs": [
    {
     "name": "stdout",
     "output_type": "stream",
     "text": [
      "25/03/09 00:59:20 WARN SparkSession: Using an existing Spark session; only runtime SQL configurations will take effect.\n"
     ]
    }
   ],
   "source": [
    "spark = SparkSession.builder \\\n",
    "    .master(\"local[*]\") \\\n",
    "    .appName('test') \\\n",
    "    .getOrCreate()"
   ]
  },
  {
   "cell_type": "markdown",
   "id": "1ebd6cc3",
   "metadata": {},
   "source": [
    "# Module 5 Homework"
   ]
  },
  {
   "cell_type": "markdown",
   "id": "d80aae4e",
   "metadata": {},
   "source": [
    "In this homework we'll put what we learned about Spark in practice.\n",
    "\n",
    "For this homework we will be using the Yellow 2024-10 data from the official website:\n",
    "\n",
    "```bash\n",
    "wget https://d37ci6vzurychx.cloudfront.net/trip-data/yellow_tripdata_2024-10.parquet\n",
    "```"
   ]
  },
  {
   "cell_type": "markdown",
   "id": "8d4c226b",
   "metadata": {},
   "source": [
    "## Question 1: Install Spark and PySpark"
   ]
  },
  {
   "cell_type": "markdown",
   "id": "fa291c69",
   "metadata": {},
   "source": [
    "Install Spark\n",
    "Run PySpark\n",
    "Create a local spark session\n",
    "Execute spark.version.\n",
    "What's the output?"
   ]
  },
  {
   "cell_type": "code",
   "execution_count": 3,
   "id": "eb3e4c36",
   "metadata": {},
   "outputs": [
    {
     "data": {
      "text/plain": [
       "'3.3.2'"
      ]
     },
     "execution_count": 3,
     "metadata": {},
     "output_type": "execute_result"
    }
   ],
   "source": [
    "spark.version"
   ]
  },
  {
   "cell_type": "markdown",
   "id": "5dbe9d9b",
   "metadata": {},
   "source": [
    "## Question 2: Yellow October 2024"
   ]
  },
  {
   "cell_type": "markdown",
   "id": "ab9c4e0a",
   "metadata": {},
   "source": [
    "Read the October 2024 Yellow into a Spark Dataframe.\n",
    "\n",
    "Repartition the Dataframe to 4 partitions and save it to parquet.\n",
    "\n",
    "What is the average size of the Parquet (ending with .parquet extension) Files that were created (in MB)? Select the answer which most closely matches.\n",
    "\n",
    "* 6MB\n",
    "* 25MB\n",
    "* 75MB\n",
    "* 100MB\n"
   ]
  },
  {
   "cell_type": "code",
   "execution_count": 5,
   "id": "7ab2bcae-864b-471d-b163-2cf370e34ba5",
   "metadata": {},
   "outputs": [
    {
     "name": "stdout",
     "output_type": "stream",
     "text": [
      "--2025-03-09 00:31:20--  https://d37ci6vzurychx.cloudfront.net/trip-data/yellow_tripdata_2024-10.parquet\n",
      "Resolving d37ci6vzurychx.cloudfront.net (d37ci6vzurychx.cloudfront.net)... 3.160.226.228, 3.160.226.85, 3.160.226.111, ...\n",
      "Connecting to d37ci6vzurychx.cloudfront.net (d37ci6vzurychx.cloudfront.net)|3.160.226.228|:443... connected.\n",
      "HTTP request sent, awaiting response... 200 OK\n",
      "Length: 64346071 (61M) [binary/octet-stream]\n",
      "Saving to: ‘yellow_tripdata_2024-10.parquet’\n",
      "\n",
      "yellow_tripdata_202 100%[===================>]  61.36M  48.8MB/s    in 1.3s    \n",
      "\n",
      "2025-03-09 00:31:22 (48.8 MB/s) - ‘yellow_tripdata_2024-10.parquet’ saved [64346071/64346071]\n",
      "\n"
     ]
    }
   ],
   "source": [
    "!wget https://d37ci6vzurychx.cloudfront.net/trip-data/yellow_tripdata_2024-10.parquet"
   ]
  },
  {
   "cell_type": "code",
   "execution_count": 5,
   "id": "773da510-956b-4018-9a32-7ee33f017baf",
   "metadata": {},
   "outputs": [
    {
     "name": "stdout",
     "output_type": "stream",
     "text": [
      "total 62M\r\n",
      "-rw-rw-r-- 1 1000 1000 6.4K Mar  9 00:30 03_test.ipynb\r\n",
      "-rw-rw-r-- 1 1000 1000  21K Mar  9 01:00 homework.ipynb\r\n",
      "-rw-r--r-- 1 root root  62M Dec 18 21:21 yellow_tripdata_2024-10.parquet\r\n"
     ]
    }
   ],
   "source": [
    "!ls -lh"
   ]
  },
  {
   "cell_type": "code",
   "execution_count": 6,
   "id": "01b9d4b6-3274-4d7c-a8b8-e323d40a7f6d",
   "metadata": {},
   "outputs": [],
   "source": [
    "df = spark.read \\\n",
    "     .parquet('yellow_tripdata_2024-10.parquet')\n"
   ]
  },
  {
   "cell_type": "code",
   "execution_count": 13,
   "id": "654e6112",
   "metadata": {},
   "outputs": [
    {
     "name": "stdout",
     "output_type": "stream",
     "text": [
      "Columns in the Parquet file:\n",
      "['VendorID', 'tpep_pickup_datetime', 'tpep_dropoff_datetime', 'passenger_count', 'trip_distance', 'RatecodeID', 'store_and_fwd_flag', 'PULocationID', 'DOLocationID', 'payment_type', 'fare_amount', 'extra', 'mta_tax', 'tip_amount', 'tolls_amount', 'improvement_surcharge', 'total_amount', 'congestion_surcharge', 'Airport_fee']\n"
     ]
    }
   ],
   "source": [
    "# Get the list of column names\n",
    "columns = df.columns\n",
    "\n",
    "# Print the column names\n",
    "print(\"Columns in the Parquet file:\")\n",
    "print(columns)"
   ]
  },
  {
   "cell_type": "code",
   "execution_count": 7,
   "id": "bd795497-9faa-4fdc-97f2-6e9713cc9338",
   "metadata": {},
   "outputs": [
    {
     "name": "stdout",
     "output_type": "stream",
     "text": [
      "+--------+--------------------+---------------------+---------------+-------------+----------+------------------+------------+------------+------------+-----------+-----+-------+----------+------------+---------------------+------------+--------------------+-----------+\n",
      "|VendorID|tpep_pickup_datetime|tpep_dropoff_datetime|passenger_count|trip_distance|RatecodeID|store_and_fwd_flag|PULocationID|DOLocationID|payment_type|fare_amount|extra|mta_tax|tip_amount|tolls_amount|improvement_surcharge|total_amount|congestion_surcharge|Airport_fee|\n",
      "+--------+--------------------+---------------------+---------------+-------------+----------+------------------+------------+------------+------------+-----------+-----+-------+----------+------------+---------------------+------------+--------------------+-----------+\n",
      "|       2| 2024-10-01 00:30:44|  2024-10-01 00:48:26|              1|          3.0|         1|                 N|         162|         246|           1|       18.4|  1.0|    0.5|       1.5|         0.0|                  1.0|        24.9|                 2.5|        0.0|\n",
      "|       1| 2024-10-01 00:12:20|  2024-10-01 00:25:25|              1|          2.2|         1|                 N|          48|         236|           1|       14.2|  3.5|    0.5|       3.8|         0.0|                  1.0|        23.0|                 2.5|        0.0|\n",
      "|       1| 2024-10-01 00:04:46|  2024-10-01 00:13:52|              1|          2.7|         1|                 N|         142|          24|           1|       13.5|  3.5|    0.5|       3.7|         0.0|                  1.0|        22.2|                 2.5|        0.0|\n",
      "|       1| 2024-10-01 00:12:10|  2024-10-01 00:23:01|              1|          3.1|         1|                 N|         233|          75|           1|       14.2|  3.5|    0.5|       2.0|         0.0|                  1.0|        21.2|                 2.5|        0.0|\n",
      "|       1| 2024-10-01 00:30:22|  2024-10-01 00:30:39|              1|          0.0|         1|                 N|         262|         262|           3|        3.0|  3.5|    0.5|       0.0|         0.0|                  1.0|         8.0|                 2.5|        0.0|\n",
      "+--------+--------------------+---------------------+---------------+-------------+----------+------------------+------------+------------+------------+-----------+-----+-------+----------+------------+---------------------+------------+--------------------+-----------+\n",
      "only showing top 5 rows\n",
      "\n"
     ]
    }
   ],
   "source": [
    "df.show(5)"
   ]
  },
  {
   "cell_type": "markdown",
   "id": "c9f5b475",
   "metadata": {},
   "source": [
    "Repartition the DataFrame to 4 Partitions: Next, you'd repartition the DataFrame into 4 partitions:"
   ]
  },
  {
   "cell_type": "code",
   "execution_count": 8,
   "id": "9cccee0c-b7cc-4411-b2ed-5b5b8d9abd7e",
   "metadata": {},
   "outputs": [],
   "source": [
    "df_repartitioned = df.repartition(4)"
   ]
  },
  {
   "cell_type": "markdown",
   "id": "1aa2a452",
   "metadata": {},
   "source": [
    "Save the DataFrame to Parquet: Then, you can save the DataFrame back to Parquet format:"
   ]
  },
  {
   "cell_type": "code",
   "execution_count": 9,
   "id": "47ab0205",
   "metadata": {},
   "outputs": [
    {
     "name": "stderr",
     "output_type": "stream",
     "text": [
      "                                                                                \r"
     ]
    }
   ],
   "source": [
    "df_repartitioned.write.parquet(\"yellow_tripdata_2024-10_repartitioned.parquet\")\n"
   ]
  },
  {
   "cell_type": "markdown",
   "id": "4d875da0",
   "metadata": {},
   "source": [
    "Check the Size of the Parquet Files: To estimate the average size of the Parquet files that were created after saving, you can inspect the directory:"
   ]
  },
  {
   "cell_type": "code",
   "execution_count": 11,
   "id": "203c3bdd",
   "metadata": {},
   "outputs": [
    {
     "name": "stdout",
     "output_type": "stream",
     "text": [
      "0\tyellow_tripdata_2024-10_repartitioned.parquet/_SUCCESS\r\n",
      "25M\tyellow_tripdata_2024-10_repartitioned.parquet/part-00000-2d9814a1-c7df-4baa-b4d7-7959f4327abf-c000.snappy.parquet\r\n",
      "25M\tyellow_tripdata_2024-10_repartitioned.parquet/part-00001-2d9814a1-c7df-4baa-b4d7-7959f4327abf-c000.snappy.parquet\r\n",
      "25M\tyellow_tripdata_2024-10_repartitioned.parquet/part-00002-2d9814a1-c7df-4baa-b4d7-7959f4327abf-c000.snappy.parquet\r\n",
      "25M\tyellow_tripdata_2024-10_repartitioned.parquet/part-00003-2d9814a1-c7df-4baa-b4d7-7959f4327abf-c000.snappy.parquet\r\n"
     ]
    }
   ],
   "source": [
    "!du -sh yellow_tripdata_2024-10_repartitioned.parquet/*"
   ]
  },
  {
   "cell_type": "markdown",
   "id": "fb561abb",
   "metadata": {},
   "source": [
    "What is the average size of the Parquet (ending with .parquet extension) Files that were created (in MB)? Select the answer which most closely matches.\n",
    "\n",
    "* 6MB\n",
    "* **25MB &larr;**\n",
    "* 75MB\n",
    "* 100MB"
   ]
  },
  {
   "cell_type": "markdown",
   "id": "b587d24c",
   "metadata": {},
   "source": [
    "## Question 3: Count records"
   ]
  },
  {
   "cell_type": "markdown",
   "id": "2bfd61bc",
   "metadata": {},
   "source": [
    "How many taxi trips were there on the 15th of October?\n",
    "\n",
    "Consider only trips that started on the 15th of October.\n",
    "\n",
    "* 85,567\n",
    "* 105,567\n",
    "* 125,567\n",
    "* 145,567"
   ]
  },
  {
   "cell_type": "code",
   "execution_count": 26,
   "id": "324173cf",
   "metadata": {},
   "outputs": [
    {
     "name": "stderr",
     "output_type": "stream",
     "text": [
      "/opt/spark/python/pyspark/sql/dataframe.py:229: FutureWarning: Deprecated in 2.0, use createOrReplaceTempView instead.\n",
      "  warnings.warn(\"Deprecated in 2.0, use createOrReplaceTempView instead.\", FutureWarning)\n"
     ]
    }
   ],
   "source": [
    "df.registerTempTable('yellow_2024_10')"
   ]
  },
  {
   "cell_type": "code",
   "execution_count": 14,
   "id": "69362648",
   "metadata": {},
   "outputs": [
    {
     "name": "stdout",
     "output_type": "stream",
     "text": [
      "Number of taxi trips on October 15th, 2024: 128893\n"
     ]
    },
    {
     "name": "stderr",
     "output_type": "stream",
     "text": [
      "\r",
      "[Stage 6:===================================================>       (7 + 1) / 8]\r",
      "\r",
      "                                                                                \r"
     ]
    }
   ],
   "source": [
    "from pyspark.sql.functions import col, to_date\n",
    "\n",
    "# Filter the DataFrame for trips starting on 2024-10-15\n",
    "oct_15_trips = df.filter(to_date(col(\"tpep_pickup_datetime\")) == \"2024-10-15\")\n",
    "\n",
    "# Count the number of trips\n",
    "num_trips_oct_15 = oct_15_trips.count()\n",
    "\n",
    "# Print the result\n",
    "print(f\"Number of taxi trips on October 15th, 2024: {num_trips_oct_15}\")"
   ]
  },
  {
   "cell_type": "code",
   "execution_count": 42,
   "id": "c5cb9185",
   "metadata": {},
   "outputs": [
    {
     "data": {
      "text/plain": [
       "128893"
      ]
     },
     "execution_count": 42,
     "metadata": {},
     "output_type": "execute_result"
    }
   ],
   "source": [
    "df \\\n",
    "    .withColumn('pickup_date', F.to_date(df.tpep_pickup_datetime)) \\\n",
    "    .filter(\"pickup_date = '2024-10-15'\") \\\n",
    "    .count()"
   ]
  },
  {
   "cell_type": "markdown",
   "id": "6ed69bec",
   "metadata": {},
   "source": [
    "Consider only trips that started on the 15th of October.\n",
    "\n",
    "* 85,567 \n",
    "* 105,567\n",
    "* **125,567  &larr;**\n",
    "* 145,567"
   ]
  },
  {
   "cell_type": "markdown",
   "id": "e8bd0a4a",
   "metadata": {},
   "source": [
    "## Question 4: Longest trip"
   ]
  },
  {
   "cell_type": "markdown",
   "id": "439ad31e",
   "metadata": {},
   "source": [
    "What is the length of the longest trip in the dataset in hours?\n",
    "\n",
    "* 122\n",
    "* 142\n",
    "* 162\n",
    "* 182"
   ]
  },
  {
   "cell_type": "code",
   "execution_count": 16,
   "id": "bd6587be",
   "metadata": {},
   "outputs": [
    {
     "name": "stdout",
     "output_type": "stream",
     "text": [
      "The length of the longest trip in the dataset is 162.62 hours.\n"
     ]
    }
   ],
   "source": [
    "from pyspark.sql.functions import col, unix_timestamp\n",
    "\n",
    "# Calculate the trip duration in seconds\n",
    "df_with_duration = df.withColumn(\"trip_duration_seconds\", \n",
    "                                 (unix_timestamp(\"tpep_dropoff_datetime\") - unix_timestamp(\"tpep_pickup_datetime\")))\n",
    "\n",
    "# Convert the duration from seconds to hours\n",
    "df_with_duration = df_with_duration.withColumn(\"trip_duration_hours\", col(\"trip_duration_seconds\") / 3600)\n",
    "\n",
    "# Find the longest trip (in hours)\n",
    "longest_trip_hours = df_with_duration.agg({\"trip_duration_hours\": \"max\"}).collect()[0][0]\n",
    "\n",
    "# Print the result\n",
    "print(f\"The length of the longest trip in the dataset is {longest_trip_hours:.2f} hours.\")\n"
   ]
  },
  {
   "cell_type": "code",
   "execution_count": 32,
   "id": "8d28dc4c",
   "metadata": {},
   "outputs": [
    {
     "name": "stdout",
     "output_type": "stream",
     "text": [
      "+-----------+------------------+\n",
      "|pickup_date|     max(duration)|\n",
      "+-----------+------------------+\n",
      "| 2024-10-16|162.61777777777777|\n",
      "| 2024-10-03|           143.325|\n",
      "| 2024-10-22|137.76055555555556|\n",
      "| 2024-10-18|114.83472222222223|\n",
      "| 2024-10-21| 89.89833333333333|\n",
      "+-----------+------------------+\n",
      "\n"
     ]
    }
   ],
   "source": [
    "df \\\n",
    "    .withColumn('duration', df.tpep_dropoff_datetime.cast('long') - df.tpep_pickup_datetime.cast('long')) \\\n",
    "    .withColumn(\"duration\", col(\"duration\") / 3600) \\\n",
    "    .withColumn('pickup_date', F.to_date(df.tpep_pickup_datetime)) \\\n",
    "    .groupBy('pickup_date') \\\n",
    "        .max('duration') \\\n",
    "    .orderBy('max(duration)', ascending=False) \\\n",
    "    .limit(5) \\\n",
    "    .show()"
   ]
  },
  {
   "cell_type": "markdown",
   "id": "a3818c6f",
   "metadata": {},
   "source": [
    "What is the length of the longest trip in the dataset in hours?\n",
    "\n",
    "* 122\n",
    "* 142\n",
    "* **162 &larr;**\n",
    "* 182"
   ]
  },
  {
   "cell_type": "markdown",
   "id": "e76d40d3",
   "metadata": {},
   "source": [
    "## Question 5: User Interface"
   ]
  },
  {
   "cell_type": "markdown",
   "id": "09fce296",
   "metadata": {},
   "source": [
    "Spark’s User Interface which shows the application's dashboard runs on which local port?\n",
    "\n",
    "* 80\n",
    "* 443\n",
    "* **4040  &larr;**\n",
    "* 8080"
   ]
  },
  {
   "attachments": {
    "image.png": {
     "image/png": "[encoded data removed]"
    }
   },
   "cell_type": "markdown",
   "id": "d8f3f694",
   "metadata": {},
   "source": [
    "![image.png](attachment:image.png)"
   ]
  },
  {
   "cell_type": "markdown",
   "id": "49235379",
   "metadata": {},
   "source": [
    "# Question 6: Least frequent pickup location zone"
   ]
  },
  {
   "cell_type": "markdown",
   "id": "6bf0cc5c",
   "metadata": {},
   "source": [
    "Load the zone lookup data into a temp view in Spark:\n",
    "\n",
    "```bash\n",
    "wget https://d37ci6vzurychx.cloudfront.net/misc/taxi_zone_lookup.csv\n",
    "```"
   ]
  },
  {
   "cell_type": "markdown",
   "id": "09692afd",
   "metadata": {},
   "source": [
    "Using the zone lookup data and the Yellow October 2024 data, what is the name of the LEAST frequent pickup location Zone?\n",
    "\n",
    "* Governor's Island/Ellis Island/Liberty Island\n",
    "* Arden Heights\n",
    "* Rikers Island\n",
    "* Jamaica Bay"
   ]
  },
  {
   "cell_type": "code",
   "execution_count": 19,
   "id": "d297a7f5",
   "metadata": {},
   "outputs": [
    {
     "name": "stdout",
     "output_type": "stream",
     "text": [
      "--2025-03-09 01:21:07--  https://d37ci6vzurychx.cloudfront.net/misc/taxi_zone_lookup.csv\n",
      "Resolving d37ci6vzurychx.cloudfront.net (d37ci6vzurychx.cloudfront.net)... 3.160.226.85, 3.160.226.161, 3.160.226.228, ...\n",
      "Connecting to d37ci6vzurychx.cloudfront.net (d37ci6vzurychx.cloudfront.net)|3.160.226.85|:443... connected.\n",
      "HTTP request sent, awaiting response... 200 OK\n",
      "Length: 12331 (12K) [text/csv]\n",
      "Saving to: ‘taxi_zone_lookup.csv’\n",
      "\n",
      "taxi_zone_lookup.cs 100%[===================>]  12.04K  --.-KB/s    in 0s      \n",
      "\n",
      "2025-03-09 01:21:07 (256 MB/s) - ‘taxi_zone_lookup.csv’ saved [12331/12331]\n",
      "\n"
     ]
    }
   ],
   "source": [
    "!wget https://d37ci6vzurychx.cloudfront.net/misc/taxi_zone_lookup.csv"
   ]
  },
  {
   "cell_type": "code",
   "execution_count": 21,
   "id": "6ac02059",
   "metadata": {},
   "outputs": [
    {
     "name": "stdout",
     "output_type": "stream",
     "text": [
      "\"LocationID\",\"Borough\",\"Zone\",\"service_zone\"\r",
      "\r\n",
      "1,\"EWR\",\"Newark Airport\",\"EWR\"\r",
      "\r\n"
     ]
    }
   ],
   "source": [
    "!head -2 taxi_zone_lookup.csv"
   ]
  },
  {
   "cell_type": "code",
   "execution_count": 22,
   "id": "6dd0ebf6",
   "metadata": {},
   "outputs": [],
   "source": [
    "# Load the Taxi Zone Lookup CSV into a DataFrame\n",
    "df_zone_lookup = spark.read.option(\"header\", \"true\").csv(\"taxi_zone_lookup.csv\")\n",
    "\n",
    "# Register the zone lookup DataFrame as a temporary view\n",
    "df_zone_lookup.createOrReplaceTempView(\"zone_lookup\")"
   ]
  },
  {
   "cell_type": "code",
   "execution_count": 23,
   "id": "01b3d158",
   "metadata": {},
   "outputs": [
    {
     "data": {
      "text/plain": [
       "[Row(LocationID='1', Borough='EWR', Zone='Newark Airport', service_zone='EWR'),\n",
       " Row(LocationID='2', Borough='Queens', Zone='Jamaica Bay', service_zone='Boro Zone'),\n",
       " Row(LocationID='3', Borough='Bronx', Zone='Allerton/Pelham Gardens', service_zone='Boro Zone'),\n",
       " Row(LocationID='4', Borough='Manhattan', Zone='Alphabet City', service_zone='Yellow Zone'),\n",
       " Row(LocationID='5', Borough='Staten Island', Zone='Arden Heights', service_zone='Boro Zone')]"
      ]
     },
     "execution_count": 23,
     "metadata": {},
     "output_type": "execute_result"
    }
   ],
   "source": [
    "df_zone_lookup.head(5)"
   ]
  },
  {
   "cell_type": "code",
   "execution_count": 34,
   "id": "0638ba66",
   "metadata": {},
   "outputs": [
    {
     "name": "stdout",
     "output_type": "stream",
     "text": [
      "+--------------------+-----+\n",
      "|                Zone|count|\n",
      "+--------------------+-----+\n",
      "|Governor's Island...|    1|\n",
      "+--------------------+-----+\n",
      "\n"
     ]
    }
   ],
   "source": [
    "# Join the Yellow Trip Data with the Zone Lookup Data on PULocationID\n",
    "df_joined = df.join(df_zone_lookup, df[\"PULocationID\"] == df_zone_lookup[\"LocationID\"])\n",
    "\n",
    "# Group by the zone name and count the occurrences\n",
    "df_zone_counts = df_joined.groupBy(\"Zone\").count()\n",
    "\n",
    "# Find the least frequent pickup location zone\n",
    "least_frequent_zone = df_zone_counts.orderBy(\"count\").limit(1)\n",
    "\n",
    "# Show the result\n",
    "least_frequent_zone.show()"
   ]
  },
  {
   "cell_type": "code",
   "execution_count": 41,
   "id": "a033c1fe",
   "metadata": {},
   "outputs": [
    {
     "name": "stdout",
     "output_type": "stream",
     "text": [
      "+--------------------+--------+\n",
      "|                Zone|count(1)|\n",
      "+--------------------+--------+\n",
      "|Governor's Island...|       1|\n",
      "|       Rikers Island|       2|\n",
      "|       Arden Heights|       2|\n",
      "|         Jamaica Bay|       3|\n",
      "| Green-Wood Cemetery|       3|\n",
      "+--------------------+--------+\n",
      "\n"
     ]
    }
   ],
   "source": [
    "spark.sql(\"\"\"\n",
    "SELECT\n",
    "    pul.Zone,\n",
    "    COUNT(1)\n",
    "FROM \n",
    "    yellow_2024_10 yellow JOIN zone_lookup pul ON yellow.PULocationID = pul.LocationID\n",
    "GROUP BY \n",
    "    1\n",
    "ORDER BY\n",
    "    2 ASC\n",
    "LIMIT 5;\n",
    "\"\"\").show()"
   ]
  },
  {
   "cell_type": "markdown",
   "id": "46017259",
   "metadata": {},
   "source": [
    "Using the zone lookup data and the Yellow October 2024 data, what is the name of the LEAST frequent pickup location Zone?\n",
    "\n",
    "* **Governor's Island/Ellis Island/Liberty Island    &larr;**\n",
    "* Arden Heights\n",
    "* Rikers Island\n",
    "* Jamaica Bay"
   ]
  }
 ],
 "metadata": {
  "kernelspec": {
   "display_name": "Python 3 (ipykernel)",
   "language": "python",
   "name": "python3"
  },
  "language_info": {
   "codemirror_mode": {
    "name": "ipython",
    "version": 3
   },
   "file_extension": ".py",
   "mimetype": "text/x-python",
   "name": "python",
   "nbconvert_exporter": "python",
   "pygments_lexer": "ipython3",
   "version": "3.9.17"
  }
 },
 "nbformat": 4,
 "nbformat_minor": 5
}
